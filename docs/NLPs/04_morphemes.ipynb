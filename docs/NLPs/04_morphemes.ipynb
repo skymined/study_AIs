{
  "nbformat": 4,
  "nbformat_minor": 0,
  "metadata": {
    "colab": {
      "provenance": [],
      "include_colab_link": true
    },
    "kernelspec": {
      "name": "python3",
      "display_name": "Python 3"
    },
    "language_info": {
      "name": "python"
    }
  },
  "cells": [
    {
      "cell_type": "markdown",
      "metadata": {
        "id": "view-in-github",
        "colab_type": "text"
      },
      "source": [
        "<a href=\"https://colab.research.google.com/github/skymined/study_AIs/blob/main/docs/NLPs/04_morphemes.ipynb\" target=\"_parent\"><img src=\"https://colab.research.google.com/assets/colab-badge.svg\" alt=\"Open In Colab\"/></a>"
      ]
    },
    {
      "cell_type": "markdown",
      "source": [
        "### refer : https://konlpy.org/ko/stable/api/konlpy.tag/"
      ],
      "metadata": {
        "id": "1gsVs-_zZLdw"
      }
    },
    {
      "cell_type": "code",
      "execution_count": null,
      "metadata": {
        "colab": {
          "base_uri": "https://localhost:8080/"
        },
        "id": "Zwao7eQwX5YS",
        "outputId": "90f60192-f030-4893-d3e9-63994130b623"
      },
      "outputs": [
        {
          "output_type": "stream",
          "name": "stdout",
          "text": [
            "Collecting konlpy\n",
            "  Downloading konlpy-0.6.0-py2.py3-none-any.whl (19.4 MB)\n",
            "\u001b[2K     \u001b[90m━━━━━━━━━━━━━━━━━━━━━━━━━━━━━━━━━━━━━━━━\u001b[0m \u001b[32m19.4/19.4 MB\u001b[0m \u001b[31m33.7 MB/s\u001b[0m eta \u001b[36m0:00:00\u001b[0m\n",
            "\u001b[?25hCollecting JPype1>=0.7.0 (from konlpy)\n",
            "  Downloading JPype1-1.5.0-cp310-cp310-manylinux_2_17_x86_64.manylinux2014_x86_64.whl (488 kB)\n",
            "\u001b[2K     \u001b[90m━━━━━━━━━━━━━━━━━━━━━━━━━━━━━━━━━━━━━━━━\u001b[0m \u001b[32m488.6/488.6 kB\u001b[0m \u001b[31m37.6 MB/s\u001b[0m eta \u001b[36m0:00:00\u001b[0m\n",
            "\u001b[?25hRequirement already satisfied: lxml>=4.1.0 in /usr/local/lib/python3.10/dist-packages (from konlpy) (4.9.4)\n",
            "Requirement already satisfied: numpy>=1.6 in /usr/local/lib/python3.10/dist-packages (from konlpy) (1.25.2)\n",
            "Requirement already satisfied: packaging in /usr/local/lib/python3.10/dist-packages (from JPype1>=0.7.0->konlpy) (23.2)\n",
            "Installing collected packages: JPype1, konlpy\n",
            "Successfully installed JPype1-1.5.0 konlpy-0.6.0\n"
          ]
        }
      ],
      "source": [
        "!pip install konlpy"
      ]
    },
    {
      "cell_type": "code",
      "source": [
        "sentence_list = ['아버지가방에들어가신다'\n",
        "                ,'나는 밥을 먹는다.'\n",
        "                , '하늘을 나는 자동차'\n",
        "                , '아이폰 기다리다 지쳐 애플공홈에서 언락폰질러버렸다 6+ 128기가실버ㅋ' ]"
      ],
      "metadata": {
        "id": "9C2k8iBpZwYw"
      },
      "execution_count": null,
      "outputs": []
    },
    {
      "cell_type": "markdown",
      "source": [
        "## Okt"
      ],
      "metadata": {
        "id": "6OaXXA8aZpuQ"
      }
    },
    {
      "cell_type": "code",
      "source": [
        "from konlpy.tag import Okt\n",
        "okt = Okt()"
      ],
      "metadata": {
        "id": "WLJSMaOiZYla"
      },
      "execution_count": null,
      "outputs": []
    },
    {
      "cell_type": "code",
      "source": [
        "# okt.morphs(sentence_list[1])  # 처리 단위가 string\n",
        "okt.morphs(sentence_list[0])  # 처리 단위가 string"
      ],
      "metadata": {
        "colab": {
          "base_uri": "https://localhost:8080/"
        },
        "id": "Ls80Gaj5aoOA",
        "outputId": "f46690ba-90d0-4359-ddc3-c10b974294a6"
      },
      "execution_count": null,
      "outputs": [
        {
          "output_type": "execute_result",
          "data": {
            "text/plain": [
              "['아버지', '가방', '에', '들어가신다']"
            ]
          },
          "metadata": {},
          "execution_count": 4
        }
      ]
    },
    {
      "cell_type": "code",
      "source": [
        "okt.pos(sentence_list[1])"
      ],
      "metadata": {
        "colab": {
          "base_uri": "https://localhost:8080/"
        },
        "id": "ocNLJy18bbGQ",
        "outputId": "288ef590-8daf-47f4-8722-40a67dc432f5"
      },
      "execution_count": null,
      "outputs": [
        {
          "output_type": "execute_result",
          "data": {
            "text/plain": [
              "[('나', 'Noun'),\n",
              " ('는', 'Josa'),\n",
              " ('밥', 'Noun'),\n",
              " ('을', 'Josa'),\n",
              " ('먹는다', 'Verb'),\n",
              " ('.', 'Punctuation')]"
            ]
          },
          "metadata": {},
          "execution_count": 5
        }
      ]
    },
    {
      "cell_type": "markdown",
      "source": [
        "## Mecab"
      ],
      "metadata": {
        "id": "tzfeKAbGaHS5"
      }
    },
    {
      "cell_type": "code",
      "source": [
        "!pip install python-mecab-ko"
      ],
      "metadata": {
        "id": "J97o6nisaE7o",
        "colab": {
          "base_uri": "https://localhost:8080/"
        },
        "outputId": "2f2725e2-04ad-4c71-e0a9-0bb7ab47f7fc"
      },
      "execution_count": null,
      "outputs": [
        {
          "output_type": "stream",
          "name": "stdout",
          "text": [
            "Collecting python-mecab-ko\n",
            "  Downloading python_mecab_ko-1.3.3-cp310-cp310-manylinux_2_17_x86_64.manylinux2014_x86_64.whl (573 kB)\n",
            "\u001b[2K     \u001b[90m━━━━━━━━━━━━━━━━━━━━━━━━━━━━━━━━━━━━━━━━\u001b[0m \u001b[32m573.9/573.9 kB\u001b[0m \u001b[31m6.8 MB/s\u001b[0m eta \u001b[36m0:00:00\u001b[0m\n",
            "\u001b[?25hCollecting python-mecab-ko-dic (from python-mecab-ko)\n",
            "  Downloading python_mecab_ko_dic-2.1.1.post2-py3-none-any.whl (34.5 MB)\n",
            "\u001b[2K     \u001b[90m━━━━━━━━━━━━━━━━━━━━━━━━━━━━━━━━━━━━━━━━\u001b[0m \u001b[32m34.5/34.5 MB\u001b[0m \u001b[31m15.8 MB/s\u001b[0m eta \u001b[36m0:00:00\u001b[0m\n",
            "\u001b[?25hInstalling collected packages: python-mecab-ko-dic, python-mecab-ko\n",
            "Successfully installed python-mecab-ko-1.3.3 python-mecab-ko-dic-2.1.1.post2\n"
          ]
        }
      ]
    },
    {
      "cell_type": "code",
      "source": [
        "from mecab import MeCab\n",
        "mecab = MeCab()\n",
        "mecab"
      ],
      "metadata": {
        "id": "-eutbAZXaRl_",
        "colab": {
          "base_uri": "https://localhost:8080/"
        },
        "outputId": "7ec5ab2b-fbe8-41b8-c672-be4cbda12cee"
      },
      "execution_count": null,
      "outputs": [
        {
          "output_type": "execute_result",
          "data": {
            "text/plain": [
              "<mecab.mecab.MeCab at 0x7ac7845950f0>"
            ]
          },
          "metadata": {},
          "execution_count": 7
        }
      ]
    },
    {
      "cell_type": "code",
      "source": [
        "# mecab.morphs(sentence_list[1])  # 처리 단위가 string\n",
        "mecab.morphs(sentence_list[0])  # 처리 단위가 string"
      ],
      "metadata": {
        "colab": {
          "base_uri": "https://localhost:8080/"
        },
        "id": "N5ijAR9vajei",
        "outputId": "b6580db4-1e2b-4c88-d518-0aad1c39c745"
      },
      "execution_count": null,
      "outputs": [
        {
          "output_type": "execute_result",
          "data": {
            "text/plain": [
              "['아버지', '가', '방', '에', '들어가', '신다']"
            ]
          },
          "metadata": {},
          "execution_count": 8
        }
      ]
    },
    {
      "cell_type": "code",
      "source": [
        "mecab.pos(sentence_list[1])"
      ],
      "metadata": {
        "colab": {
          "base_uri": "https://localhost:8080/"
        },
        "id": "2lbL15PCbDNx",
        "outputId": "71757e6f-596c-470a-bf5e-c42bef21d09c"
      },
      "execution_count": null,
      "outputs": [
        {
          "output_type": "execute_result",
          "data": {
            "text/plain": [
              "[('나', 'NP'),\n",
              " ('는', 'JX'),\n",
              " ('밥', 'NNG'),\n",
              " ('을', 'JKO'),\n",
              " ('먹', 'VV'),\n",
              " ('는다', 'EF'),\n",
              " ('.', 'SF')]"
            ]
          },
          "metadata": {},
          "execution_count": 9
        }
      ]
    },
    {
      "cell_type": "code",
      "source": [
        "mecab.nouns(sentence_list[0])"
      ],
      "metadata": {
        "colab": {
          "base_uri": "https://localhost:8080/"
        },
        "id": "w2PQluXSbsSK",
        "outputId": "ad7370b3-2c2e-46c7-9032-a8f37534bd00"
      },
      "execution_count": null,
      "outputs": [
        {
          "output_type": "execute_result",
          "data": {
            "text/plain": [
              "['아버지', '방']"
            ]
          },
          "metadata": {},
          "execution_count": 10
        }
      ]
    },
    {
      "cell_type": "code",
      "source": [
        "mecab.parse(sentence_list[0])"
      ],
      "metadata": {
        "id": "YLzYvkG3cQJZ",
        "colab": {
          "base_uri": "https://localhost:8080/"
        },
        "outputId": "43a3a30a-51cc-4de2-c86b-74407873e15f"
      },
      "execution_count": null,
      "outputs": [
        {
          "output_type": "execute_result",
          "data": {
            "text/plain": [
              "[Morpheme(span=Span(start=0, end=3), surface='아버지', feature=Feature(pos='NNG', semantic=None, has_jongseong=False, reading='아버지', type=None, start_pos=None, end_pos=None, expression=None)),\n",
              " Morpheme(span=Span(start=3, end=4), surface='가', feature=Feature(pos='JKS', semantic=None, has_jongseong=False, reading='가', type=None, start_pos=None, end_pos=None, expression=None)),\n",
              " Morpheme(span=Span(start=4, end=5), surface='방', feature=Feature(pos='NNG', semantic='장소', has_jongseong=True, reading='방', type=None, start_pos=None, end_pos=None, expression=None)),\n",
              " Morpheme(span=Span(start=5, end=6), surface='에', feature=Feature(pos='JKB', semantic=None, has_jongseong=False, reading='에', type=None, start_pos=None, end_pos=None, expression=None)),\n",
              " Morpheme(span=Span(start=6, end=9), surface='들어가', feature=Feature(pos='VV', semantic=None, has_jongseong=False, reading='들어가', type=None, start_pos=None, end_pos=None, expression=None)),\n",
              " Morpheme(span=Span(start=9, end=11), surface='신다', feature=Feature(pos='EP+EC', semantic=None, has_jongseong=False, reading='신다', type='Inflect', start_pos='EP', end_pos='EC', expression='시/EP/*+ㄴ다/EC/*'))]"
            ]
          },
          "metadata": {},
          "execution_count": 11
        }
      ]
    },
    {
      "cell_type": "code",
      "source": [],
      "metadata": {
        "id": "KdRRWDfmeweR"
      },
      "execution_count": null,
      "outputs": []
    }
  ]
}